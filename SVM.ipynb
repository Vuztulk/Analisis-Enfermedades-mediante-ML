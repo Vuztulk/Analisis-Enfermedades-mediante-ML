{
 "cells": [
  {
   "cell_type": "code",
   "execution_count": null,
   "metadata": {},
   "outputs": [],
   "source": [
    "import pandas as pd\n",
    "import numpy as np\n",
    "from sklearn.svm import SVC\n",
    "from sklearn.metrics import classification_report, confusion_matrix\n",
    "from sklearn.model_selection import train_test_split, cross_val_score, RandomizedSearchCV\n",
    "from sklearn.metrics import confusion_matrix, classification_report, ConfusionMatrixDisplay, accuracy_score\n",
    "from sklearn.preprocessing import StandardScaler\n",
    "from scipy.stats import uniform, loguniform\n",
    "import matplotlib.pyplot as plt\n",
    "import warnings\n",
    "import seaborn as sns\n",
    "import itertools"
   ]
  },
  {
   "cell_type": "code",
   "execution_count": null,
   "metadata": {},
   "outputs": [],
   "source": [
    "df_train = pd.read_csv('blood_samples.csv')\n",
    "X = df_train.drop('Disease', axis=1)  # Caracteristicas\n",
    "y = df_train['Disease']  # Etiquetas\n",
    "x_train, x_test, y_train, y_test = train_test_split(X,y,test_size=0.2, random_state=0)"
   ]
  },
  {
   "cell_type": "code",
   "execution_count": null,
   "metadata": {},
   "outputs": [],
   "source": [
    "import matplotlib.pyplot as plt\n",
    "from sklearn import svm\n",
    "from sklearn.metrics import classification_report, confusion_matrix\n",
    "from sklearn.metrics import ConfusionMatrixDisplay\n",
    "\n",
    "def evaluate_svm(x_train, y_train, x_test, y_test, kernel='poly',do_cross_validation=True):\n",
    "\n",
    "   model = svm.SVC(kernel=kernel)\n",
    "   model.fit(x_train, y_train)\n",
    "\n",
    "   predictions = model.predict(x_test)\n",
    "\n",
    "   print(\"Reporte de clasificación:\\n\", classification_report(y_test, predictions))\n",
    "\n",
    "   if do_cross_validation:\n",
    "      cv = cross_val_score(model, X, y, cv=5, scoring='accuracy') #Numero de iteraciones = 5\n",
    "\n",
    "      print(\"Resultados de validación cruzada:\")\n",
    "      for i, accuracy in enumerate(cv):\n",
    "         print(f\"Iteración {i+1}: Accuracy = {accuracy}\")\n",
    "\n",
    "      print(f\"Accuracy promedio: {np.mean(cv)}\")\n",
    "      print(f\"Desviación estándar del accuracy: {np.std(cv)}\")\n",
    "\n",
    "   cm = confusion_matrix(y_test, predictions, labels = model.classes_)\n",
    "   disp = ConfusionMatrixDisplay(confusion_matrix=cm, display_labels = model.classes_)\n",
    "   disp.plot()\n",
    "   plt.show()"
   ]
  },
  {
   "cell_type": "code",
   "execution_count": null,
   "metadata": {},
   "outputs": [],
   "source": [
    "evaluate_svm(x_train, y_train, x_test, y_test, kernel='linear', do_cross_validation=False)"
   ]
  },
  {
   "cell_type": "code",
   "execution_count": null,
   "metadata": {},
   "outputs": [],
   "source": [
    "evaluate_svm(x_train, y_train, x_test, y_test, kernel='poly', do_cross_validation=True)"
   ]
  },
  {
   "cell_type": "code",
   "execution_count": null,
   "metadata": {},
   "outputs": [],
   "source": [
    "evaluate_svm(x_train, y_train, x_test, y_test, kernel='rbf', do_cross_validation=False)"
   ]
  },
  {
   "cell_type": "markdown",
   "metadata": {},
   "source": [
    "\n",
    "El código optimiza, entrena y evalúa un modelo de Máquinas de Vectores de Soporte (SVM) con visualización comparativa de la precisión para diferentes parámetros. Se realizan los siguientes pasos:\n",
    "\n",
    "Ajuste de hiperparámetros (Randomized Search CV):\n",
    "\n",
    "Se define un espacio de búsqueda para los hiperparámetros del SVM (kernel, C, gamma, etc.).\n",
    "El modelo SVM se entrena con diferentes combinaciones de hiperparámetros utilizando validación cruzada y se evalúa su precisión.\n",
    "Se encuentra la mejor configuración de hiperparámetros según la mayor precisión media.\n",
    "\n",
    "Entrenamiento y evaluación:\n",
    "\n",
    "Se crea un modelo SVM final con los mejores hiperparámetros.\n",
    "El modelo final se entrena en los datos de entrenamiento.\n",
    "Se realizan predicciones en los datos de prueba.\n",
    "Se evalúa el rendimiento del modelo mediante un informe de clasificación y una matriz de confusión."
   ]
  },
  {
   "cell_type": "code",
   "execution_count": null,
   "metadata": {},
   "outputs": [],
   "source": [
    "with warnings.catch_warnings():\n",
    "    warnings.simplefilter(\"ignore\")\n",
    "\n",
    "    param_distributions = {\n",
    "        'kernel': ['linear', 'poly', 'rbf', 'sigmoid'],\n",
    "        'C': loguniform(0.001, 100.0),\n",
    "        'gamma': loguniform(0.00001, 1.0),\n",
    "        'degree': [2, 3, 4, 5],\n",
    "        'coef0': uniform(-1.0, 1.0),\n",
    "        'shrinking': [True, False],\n",
    "        'probability': [True, False],\n",
    "        'tol': loguniform(1e-6, 1e-2),\n",
    "        'cache_size': [100, 200, 500],\n",
    "        'class_weight': ['balanced', None],\n",
    "        'verbose': [0],\n",
    "        'max_iter': [1000, 2000, 5000],\n",
    "        'decision_function_shape': ['ovo', 'ovr'],\n",
    "    }\n",
    "\n",
    "    model = svm.SVC()\n",
    "\n",
    "    random_search = RandomizedSearchCV(model, param_distributions, n_iter=100, cv=5, scoring='accuracy')\n",
    "\n",
    "    random_search.fit(x_train, y_train)\n",
    "\n",
    "    best_params = random_search.best_params_\n",
    "\n",
    "    print(\"Mejores parámetros:\", best_params)\n",
    "    print(\"Mejor puntaje:\", random_search.best_score_)\n",
    "\n",
    "    best_model = svm.SVC(**best_params)\n",
    "    best_model.fit(x_train, y_train)\n",
    "\n",
    "    predictions = best_model.predict(x_test)\n",
    "    print(\"Reporte de clasificación:\\n\", classification_report(y_test, predictions))\n",
    "    cm = confusion_matrix(y_test, predictions, labels = best_model.classes_)\n",
    "    disp = ConfusionMatrixDisplay(confusion_matrix=cm, display_labels = best_model.classes_)\n",
    "    disp.plot()\n",
    "    plt.show()"
   ]
  },
  {
   "cell_type": "markdown",
   "metadata": {},
   "source": [
    "Ploteamos los distintos parametros en relaccion a su accuracy, pero como RandomizedSearchCV mezcla los parametros de manera aleatoria, los graficos no tendran una relaccion consistente."
   ]
  },
  {
   "cell_type": "code",
   "execution_count": null,
   "metadata": {},
   "outputs": [],
   "source": [
    "df = pd.DataFrame(random_search.cv_results_)\n",
    "\n",
    "params_of_interest = ['param_kernel', 'param_C', 'param_gamma', 'param_degree']\n",
    "\n",
    "for param in params_of_interest:\n",
    "    plt.figure(figsize=(10, 6))\n",
    "    # Filtrar el DataFrame para eliminar las filas donde el parámetro es None\n",
    "    filtered_df = df[df[param].notna()]\n",
    "    plt.plot(filtered_df[param], filtered_df['mean_test_score'], 'o')\n",
    "    plt.xlabel(param)\n",
    "    plt.ylabel('Mean Test Score')\n",
    "    plt.show()"
   ]
  }
 ],
 "metadata": {
  "kernelspec": {
   "display_name": "base",
   "language": "python",
   "name": "python3"
  },
  "language_info": {
   "codemirror_mode": {
    "name": "ipython",
    "version": 3
   },
   "file_extension": ".py",
   "mimetype": "text/x-python",
   "name": "python",
   "nbconvert_exporter": "python",
   "pygments_lexer": "ipython3",
   "version": "3.11.5"
  }
 },
 "nbformat": 4,
 "nbformat_minor": 2
}
