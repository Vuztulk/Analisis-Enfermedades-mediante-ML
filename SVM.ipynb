{
 "cells": [
  {
   "cell_type": "code",
   "execution_count": null,
   "metadata": {},
   "outputs": [],
   "source": [
    "import pandas as pd\n",
    "import numpy as np\n",
    "from sklearn import svm\n",
    "from sklearn.metrics import classification_report, confusion_matrix\n",
    "from sklearn.model_selection import train_test_split, cross_val_score\n",
    "from sklearn.metrics import confusion_matrix, classification_report, ConfusionMatrixDisplay\n",
    "import matplotlib.pyplot as plt"
   ]
  },
  {
   "cell_type": "code",
   "execution_count": null,
   "metadata": {},
   "outputs": [],
   "source": [
    "df_train = pd.read_csv('blood_samples.csv')\n",
    "X = df_train.drop('Disease', axis=1)  # Caracteristicas\n",
    "y = df_train['Disease']  # Etiquetas\n",
    "x_train, x_test, y_train, y_test = train_test_split(X,y,test_size=0.2, random_state=0)"
   ]
  },
  {
   "cell_type": "code",
   "execution_count": null,
   "metadata": {},
   "outputs": [],
   "source": [
    "model = svm.SVC(kernel='poly')#El mejor es poly de momento\n",
    "\n",
    "model.fit(x_train, y_train)\n",
    "\n",
    "predictions = model.predict(x_test)\n",
    "\n",
    "print(\"Reporte de clasificación:\\n\", classification_report(y_test, predictions))\n",
    "\n",
    "predictions = model.predict(x_test)\n",
    "cm = confusion_matrix(y_test, predictions)\n",
    "disp = ConfusionMatrixDisplay(confusion_matrix = cm, display_labels = model.classes_)\n",
    "disp.plot()\n",
    "plt.show()"
   ]
  },
  {
   "cell_type": "code",
   "execution_count": null,
   "metadata": {},
   "outputs": [],
   "source": [
    "model = svm.SVC(kernel='linear')\n",
    "\n",
    "model.fit(x_train, y_train)\n",
    "\n",
    "predictions = model.predict(x_test)\n",
    "\n",
    "print(\"Reporte de clasificación:\\n\", classification_report(y_test, predictions))\n",
    "\n",
    "predictions = model.predict(x_test)\n",
    "cm = confusion_matrix(y_test, predictions)\n",
    "disp = ConfusionMatrixDisplay(confusion_matrix = cm, display_labels = model.classes_)\n",
    "disp.plot()\n",
    "#plt.show()"
   ]
  },
  {
   "cell_type": "code",
   "execution_count": null,
   "metadata": {},
   "outputs": [],
   "source": [
    "model = svm.SVC(kernel='rbf')\n",
    "\n",
    "model.fit(x_train, y_train)\n",
    "\n",
    "predictions = model.predict(x_test)\n",
    "\n",
    "print(\"Reporte de clasificación:\\n\", classification_report(y_test, predictions))\n",
    "\n",
    "predictions = model.predict(x_test)\n",
    "cm = confusion_matrix(y_test, predictions)\n",
    "disp = ConfusionMatrixDisplay(confusion_matrix = cm, display_labels = model.classes_)\n",
    "disp.plot()\n",
    "plt.show()"
   ]
  },
  {
   "cell_type": "code",
   "execution_count": null,
   "metadata": {},
   "outputs": [],
   "source": [
    "model = svm.SVC(kernel='sigmoid')\n",
    "\n",
    "model.fit(x_train, y_train)\n",
    "\n",
    "predictions = model.predict(x_test)\n",
    "\n",
    "print(\"Reporte de clasificación:\\n\", classification_report(y_test, predictions))\n",
    "\n",
    "predictions = model.predict(x_test)\n",
    "cm = confusion_matrix(y_test, predictions)\n",
    "disp = ConfusionMatrixDisplay(confusion_matrix = cm, display_labels = model.classes_)\n",
    "disp.plot()\n",
    "plt.show()"
   ]
  },
  {
   "cell_type": "code",
   "execution_count": null,
   "metadata": {},
   "outputs": [],
   "source": [
    "model = svm.SVC(kernel='poly')  # El mejor es poly de momento\n",
    "\n",
    "model.fit(x_train, y_train)\n",
    "\n",
    "predictions = model.predict(x_test)\n",
    "\n",
    "print(\"Reporte de clasificación:\\n\", classification_report(y_test, predictions))\n",
    "\n",
    "cv = cross_val_score(model, X, y, cv=5, scoring='accuracy') #Numero de iteraciones = 5\n",
    "\n",
    "print(\"Resultados de validación cruzada:\")\n",
    "for i, accuracy in enumerate(cv):\n",
    "    print(f\"Iteración {i+1}: Accuracy = {accuracy}\")\n",
    "\n",
    "print(f\"Accuracy promedio: {np.mean(cv)}\")\n",
    "print(f\"Desviación estándar del accuracy: {np.std(cv)}\")\n",
    "\n",
    "cm = confusion_matrix(y_test, predictions, labels = model.classes_)\n",
    "disp = ConfusionMatrixDisplay(confusion_matrix=cm, display_labels = model.classes_)\n",
    "disp.plot()\n",
    "plt.show()"
   ]
  }
 ],
 "metadata": {
  "kernelspec": {
   "display_name": "base",
   "language": "python",
   "name": "python3"
  },
  "language_info": {
   "codemirror_mode": {
    "name": "ipython",
    "version": 3
   },
   "file_extension": ".py",
   "mimetype": "text/x-python",
   "name": "python",
   "nbconvert_exporter": "python",
   "pygments_lexer": "ipython3",
   "version": "3.11.5"
  }
 },
 "nbformat": 4,
 "nbformat_minor": 2
}
